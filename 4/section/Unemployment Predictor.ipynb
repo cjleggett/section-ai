{
 "cells": [
  {
   "cell_type": "markdown",
   "metadata": {},
   "source": [
    "Necessary Imports"
   ]
  },
  {
   "cell_type": "code",
   "execution_count": 41,
   "metadata": {},
   "outputs": [],
   "source": [
    "import pandas as pd\n",
    "import re\n",
    "from sklearn import svm\n",
    "from sklearn.linear_model import Perceptron\n",
    "from sklearn.model_selection import train_test_split\n",
    "from sklearn.naive_bayes import GaussianNB\n",
    "from sklearn.neighbors import KNeighborsClassifier\n",
    "\n",
    "# model = Perceptron()\n",
    "# model = svm.SVC()\n",
    "model = KNeighborsClassifier(n_neighbors=5)\n",
    "# model = GaussianNB()"
   ]
  },
  {
   "cell_type": "markdown",
   "metadata": {},
   "source": [
    "Read in Data, drop certain cells from database and turn all fields into numbers"
   ]
  },
  {
   "cell_type": "code",
   "execution_count": 42,
   "metadata": {},
   "outputs": [],
   "source": [
    "# Read in Data\n",
    "db = pd.read_csv(\"countries.csv\", encoding='latin-1')\n",
    "\n",
    "# Drop columns from database\n",
    "to_drop = [\"CountryID\", \"Country Name\", \"WEBNAME\", \"Country\"]\n",
    "db = db.drop(to_drop, axis=1)\n",
    "\n",
    "# Drop rows with na values\n",
    "db = db.dropna()\n",
    "\n",
    "# Turns regions into indices\n",
    "REGIONS = [\"Asia-Pacific\", \"Europe\", \"Middle East and North Africa\", \"Sub-Saharan Africa\", \"Americas\"]\n",
    "db.Region = db.Region.apply(REGIONS.index)\n",
    "\n",
    "# Turns values into floats:\n",
    "def floatify(st):\n",
    "    try:\n",
    "        return float(st)\n",
    "    except:\n",
    "        if st[0] == \"$\":\n",
    "            st = st[1:]\n",
    "        st = st.replace(\",\", \"\")\n",
    "        return float(st)\n",
    "\n",
    "for col in db.columns:\n",
    "    db[col] = db[col].apply(floatify)\n",
    "\n",
    "# Add a column for unemployment quartile (1-4)\n",
    "quartiles = []\n",
    "for value in db[\"Unemployment (%)\"]:\n",
    "    if value <= 3.7:\n",
    "        quartiles.append(1)\n",
    "    elif value <= 5.55:\n",
    "        quartiles.append(2)\n",
    "    elif value <= 9.3:\n",
    "        quartiles.append(3)\n",
    "    else:\n",
    "        quartiles.append(4)\n",
    "        \n",
    "db[\"Unemployment Quartile\"] = quartiles\n",
    "\n",
    "db = db.drop([\"Unemployment (%)\"], axis=1)\n"
   ]
  },
  {
   "cell_type": "markdown",
   "metadata": {},
   "source": [
    "Turn dataframe into lists of evidence and labels"
   ]
  },
  {
   "cell_type": "code",
   "execution_count": 43,
   "metadata": {},
   "outputs": [],
   "source": [
    "evidence = db.drop([\"Unemployment Quartile\"], axis=1)\n",
    "labels = db[[\"Unemployment Quartile\"]]\n",
    "\n",
    "evidence = evidence.values.tolist()\n",
    "labels = [ls[0] for ls in labels.values.tolist()]"
   ]
  },
  {
   "cell_type": "markdown",
   "metadata": {},
   "source": [
    "Split into training/testing and train the model"
   ]
  },
  {
   "cell_type": "code",
   "execution_count": 44,
   "metadata": {},
   "outputs": [
    {
     "data": {
      "text/plain": [
       "KNeighborsClassifier(algorithm='auto', leaf_size=30, metric='minkowski',\n",
       "           metric_params=None, n_jobs=1, n_neighbors=5, p=2,\n",
       "           weights='uniform')"
      ]
     },
     "execution_count": 44,
     "metadata": {},
     "output_type": "execute_result"
    }
   ],
   "source": [
    "X_training, X_testing, y_training, y_testing = train_test_split(\n",
    "    evidence, labels, test_size=0.2\n",
    ")\n",
    "\n",
    "# Fir the model:\n",
    "model.fit(X_training, y_training)"
   ]
  },
  {
   "cell_type": "markdown",
   "metadata": {},
   "source": [
    "Predicting and testing"
   ]
  },
  {
   "cell_type": "code",
   "execution_count": 45,
   "metadata": {},
   "outputs": [
    {
     "name": "stdout",
     "output_type": "stream",
     "text": [
      "Results for model KNeighborsClassifier\n",
      "Correct: 8\n",
      "Incorrect: 27\n",
      "Accuracy: 22.86%\n"
     ]
    }
   ],
   "source": [
    "# Make predictions on the testing set\n",
    "predictions = model.predict(X_testing)\n",
    "\n",
    "# Compute how well we performed\n",
    "correct = (y_testing == predictions).sum()\n",
    "incorrect = (y_testing != predictions).sum()\n",
    "total = len(predictions)\n",
    "\n",
    "# Print results\n",
    "print(f\"Results for model {type(model).__name__}\")\n",
    "print(f\"Correct: {correct}\")\n",
    "print(f\"Incorrect: {incorrect}\")\n",
    "print(f\"Accuracy: {100 * correct / total:.2f}%\")"
   ]
  },
  {
   "cell_type": "code",
   "execution_count": null,
   "metadata": {},
   "outputs": [],
   "source": []
  }
 ],
 "metadata": {
  "kernelspec": {
   "display_name": "Python 3",
   "language": "python",
   "name": "python3"
  },
  "language_info": {
   "codemirror_mode": {
    "name": "ipython",
    "version": 3
   },
   "file_extension": ".py",
   "mimetype": "text/x-python",
   "name": "python",
   "nbconvert_exporter": "python",
   "pygments_lexer": "ipython3",
   "version": "3.7.2"
  }
 },
 "nbformat": 4,
 "nbformat_minor": 2
}
