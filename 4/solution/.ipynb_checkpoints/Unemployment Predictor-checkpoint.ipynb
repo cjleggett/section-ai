{
 "cells": [
  {
   "cell_type": "markdown",
   "metadata": {},
   "source": [
    "Necessary Imports"
   ]
  },
  {
   "cell_type": "code",
   "execution_count": 39,
   "metadata": {},
   "outputs": [],
   "source": [
    "import pandas as pd\n",
    "import re"
   ]
  },
  {
   "cell_type": "markdown",
   "metadata": {},
   "source": [
    "Read in Data, drop certain cells from database and turn all fields into numbers"
   ]
  },
  {
   "cell_type": "code",
   "execution_count": 90,
   "metadata": {},
   "outputs": [],
   "source": [
    "# Read in Data\n",
    "db = pd.read_csv(\"countries.csv\", encoding='latin-1')\n",
    "\n",
    "# Columns we do not want to consider\n",
    "to_drop = [\"CountryID\", \"Country Name\", \"WEBNAME\", \"World Rank\", \"Region Rank\", \"2019 Score\", \"Country\", \"FDI Inflow (Millions)\"]\n",
    "db = db.drop(to_drop, axis=1)\n",
    "\n",
    "# Drop rows with na columns\n",
    "db = db.dropna()\n",
    "\n",
    "# Turn Regions into integers\n",
    "REGIONS = [\"Asia-Pacific\", \"Europe\", \"Middle East and North Africa\", \"Sub-Saharan Africa\", \"Americas\"]\n",
    "db.Region = db.Region.apply(REGIONS.index)\n",
    "\n",
    "# Turn everything into floats\n",
    "def floatify(st):\n",
    "    try:\n",
    "        return float(st)\n",
    "    except:\n",
    "        st = st[1:].replace(\",\", \"\")\n",
    "        st = re.sub(r'(\\d+\\.\\d*?)\\D.*', \"\\\\1\", st)\n",
    "        return float(st)\n",
    "    \n",
    "for col in db.columns:\n",
    "    db[col] = db[col].apply(floatify)\n",
    "    \n",
    "# Add a column for unemployment quartile (1-4)\n",
    "quartiles = []\n",
    "for value in db[\"Unemployment (%)\"]:\n",
    "    if value <= 3.7:\n",
    "        quartiles.append(1)\n",
    "    elif value <= 5.55:\n",
    "        quartiles.append(2)\n",
    "    elif value <= 9.3:\n",
    "        quartiles.append(3)\n",
    "    else:\n",
    "        quartiles.append(4)\n",
    "        \n",
    "db[\"Unemployment Quartile\"] = quartiles\n",
    "\n",
    "# Drop unemployment:\n",
    "db = db.drop([\"Unemployment (%)\"], axis=1)"
   ]
  },
  {
   "cell_type": "markdown",
   "metadata": {},
   "source": [
    "Turn dataframe into lists of evidence and labels"
   ]
  },
  {
   "cell_type": "code",
   "execution_count": null,
   "metadata": {},
   "outputs": [],
   "source": [
    "evidence, labels = data.drop(columns = ['Unemployment Quartile']), data[['Unemployment Quartile']]"
   ]
  }
 ],
 "metadata": {
  "kernelspec": {
   "display_name": "Python 3",
   "language": "python",
   "name": "python3"
  },
  "language_info": {
   "codemirror_mode": {
    "name": "ipython",
    "version": 3
   },
   "file_extension": ".py",
   "mimetype": "text/x-python",
   "name": "python",
   "nbconvert_exporter": "python",
   "pygments_lexer": "ipython3",
   "version": "3.7.2"
  }
 },
 "nbformat": 4,
 "nbformat_minor": 2
}
