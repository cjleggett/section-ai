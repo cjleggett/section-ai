{
 "cells": [
  {
   "cell_type": "markdown",
   "metadata": {},
   "source": [
    "Necessary Imports"
   ]
  },
  {
   "cell_type": "code",
   "execution_count": 139,
   "metadata": {},
   "outputs": [],
   "source": [
    "import pandas as pd\n",
    "import re\n",
    "from sklearn import svm\n",
    "from sklearn.linear_model import Perceptron\n",
    "from sklearn.model_selection import train_test_split\n",
    "from sklearn.naive_bayes import GaussianNB\n",
    "from sklearn.neighbors import KNeighborsClassifier\n",
    "\n",
    "# model = Perceptron()\n",
    "# model = svm.SVC()\n",
    "# model = KNeighborsClassifier(n_neighbors=4)\n",
    "model = GaussianNB()"
   ]
  },
  {
   "cell_type": "markdown",
   "metadata": {},
   "source": [
    "Read in Data, drop certain cells from database and turn all fields into numbers"
   ]
  },
  {
   "cell_type": "code",
   "execution_count": 140,
   "metadata": {},
   "outputs": [],
   "source": [
    "# Read in Data\n",
    "db = pd.read_csv(\"countries.csv\", encoding='latin-1')\n",
    "\n",
    "# Columns we do not want to consider\n",
    "to_drop = [\"CountryID\", \"Country Name\", \"WEBNAME\", \"World Rank\", \"Region Rank\", \"2019 Score\", \"Country\", \"FDI Inflow (Millions)\"]\n",
    "db = db.drop(to_drop, axis=1)\n",
    "\n",
    "# Drop rows with na columns\n",
    "db = db.dropna()\n",
    "\n",
    "# Turn Regions into integers\n",
    "REGIONS = [\"Asia-Pacific\", \"Europe\", \"Middle East and North Africa\", \"Sub-Saharan Africa\", \"Americas\"]\n",
    "db.Region = db.Region.apply(REGIONS.index)\n",
    "\n",
    "# Turn everything into floats\n",
    "def floatify(st):\n",
    "    try:\n",
    "        return float(st)\n",
    "    except:\n",
    "        st = st[1:].replace(\",\", \"\")\n",
    "        st = re.sub(r'(\\d+\\.\\d*?)\\D.*', \"\\\\1\", st)\n",
    "        return float(st)\n",
    "    \n",
    "for col in db.columns:\n",
    "    db[col] = db[col].apply(floatify)\n",
    "    \n",
    "# Add a column for unemployment quartile (1-4)\n",
    "quartiles = []\n",
    "for value in db[\"Unemployment (%)\"]:\n",
    "    if value <= 3.7:\n",
    "        quartiles.append(1)\n",
    "    elif value <= 5.55:\n",
    "        quartiles.append(2)\n",
    "    elif value <= 9.3:\n",
    "        quartiles.append(3)\n",
    "    else:\n",
    "        quartiles.append(4)\n",
    "        \n",
    "db[\"Unemployment Quartile\"] = quartiles\n",
    "\n",
    "# Drop unemployment:\n",
    "db = db.drop([\"Unemployment (%)\"], axis=1)"
   ]
  },
  {
   "cell_type": "markdown",
   "metadata": {},
   "source": [
    "Turn dataframe into lists of evidence and labels"
   ]
  },
  {
   "cell_type": "code",
   "execution_count": 141,
   "metadata": {},
   "outputs": [],
   "source": [
    "evidence, labels = db.drop(columns = ['Unemployment Quartile']), db[['Unemployment Quartile']]\n",
    "evindence = evidence.values.tolist()\n",
    "labels = [ls[0] for ls in labels.values.tolist()]"
   ]
  },
  {
   "cell_type": "markdown",
   "metadata": {},
   "source": [
    "Split into training/testing and train the model"
   ]
  },
  {
   "cell_type": "code",
   "execution_count": 142,
   "metadata": {},
   "outputs": [
    {
     "data": {
      "text/plain": [
       "GaussianNB(priors=None)"
      ]
     },
     "execution_count": 142,
     "metadata": {},
     "output_type": "execute_result"
    }
   ],
   "source": [
    "X_training, X_testing, y_training, y_testing = train_test_split(\n",
    "    evidence, labels, test_size=0.2\n",
    ")\n",
    "\n",
    "# Fir the model:\n",
    "model.fit(X_training, y_training)"
   ]
  },
  {
   "cell_type": "markdown",
   "metadata": {},
   "source": [
    "Predicting and testing"
   ]
  },
  {
   "cell_type": "code",
   "execution_count": 143,
   "metadata": {},
   "outputs": [
    {
     "name": "stdout",
     "output_type": "stream",
     "text": [
      "Results for model GaussianNB\n",
      "Correct: 15\n",
      "Incorrect: 20\n",
      "Accuracy: 42.86%\n"
     ]
    }
   ],
   "source": [
    "# Make predictions on the testing set\n",
    "predictions = model.predict(X_testing)\n",
    "\n",
    "# Compute how well we performed\n",
    "correct = (y_testing == predictions).sum()\n",
    "incorrect = (y_testing != predictions).sum()\n",
    "total = len(predictions)\n",
    "\n",
    "# Print results\n",
    "print(f\"Results for model {type(model).__name__}\")\n",
    "print(f\"Correct: {correct}\")\n",
    "print(f\"Incorrect: {incorrect}\")\n",
    "print(f\"Accuracy: {100 * correct / total:.2f}%\")"
   ]
  },
  {
   "cell_type": "code",
   "execution_count": null,
   "metadata": {},
   "outputs": [],
   "source": []
  }
 ],
 "metadata": {
  "kernelspec": {
   "display_name": "Python 3",
   "language": "python",
   "name": "python3"
  },
  "language_info": {
   "codemirror_mode": {
    "name": "ipython",
    "version": 3
   },
   "file_extension": ".py",
   "mimetype": "text/x-python",
   "name": "python",
   "nbconvert_exporter": "python",
   "pygments_lexer": "ipython3",
   "version": "3.7.2"
  }
 },
 "nbformat": 4,
 "nbformat_minor": 2
}
